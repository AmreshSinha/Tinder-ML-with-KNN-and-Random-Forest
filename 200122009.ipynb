{
  "nbformat": 4,
  "nbformat_minor": 0,
  "metadata": {
    "colab": {
      "name": "200122009.ipynb",
      "provenance": []
    },
    "kernelspec": {
      "name": "python3",
      "display_name": "Python 3"
    },
    "language_info": {
      "name": "python"
    }
  },
  "cells": [
    {
      "cell_type": "markdown",
      "metadata": {
        "id": "a_OVc3PMxTLB"
      },
      "source": [
        "# TASK 2\n",
        "## Amresh Prasad Sinha\n",
        "## 200122009"
      ]
    },
    {
      "cell_type": "code",
      "metadata": {
        "colab": {
          "base_uri": "https://localhost:8080/"
        },
        "id": "1EeQ8K1wFlsE",
        "outputId": "0ebb4281-51a0-436e-d00e-d7105cd9a110"
      },
      "source": [
        "!rm -r task2.csv\n",
        "!wget https://github.com/AmreshSinha/Tinder-ML-with-KNN-and-Random-Forest/raw/main/task2.csv\n",
        "!pip install sklearn"
      ],
      "execution_count": 108,
      "outputs": [
        {
          "output_type": "stream",
          "text": [
            "--2021-05-17 17:52:43--  https://github.com/AmreshSinha/Tinder-ML-with-KNN-and-Random-Forest/raw/main/task2.csv\n",
            "Resolving github.com (github.com)... 140.82.121.4\n",
            "Connecting to github.com (github.com)|140.82.121.4|:443... connected.\n",
            "HTTP request sent, awaiting response... 302 Found\n",
            "Location: https://raw.githubusercontent.com/AmreshSinha/Tinder-ML-with-KNN-and-Random-Forest/main/task2.csv [following]\n",
            "--2021-05-17 17:52:43--  https://raw.githubusercontent.com/AmreshSinha/Tinder-ML-with-KNN-and-Random-Forest/main/task2.csv\n",
            "Resolving raw.githubusercontent.com (raw.githubusercontent.com)... 185.199.108.133, 185.199.109.133, 185.199.110.133, ...\n",
            "Connecting to raw.githubusercontent.com (raw.githubusercontent.com)|185.199.108.133|:443... connected.\n",
            "HTTP request sent, awaiting response... 200 OK\n",
            "Length: 115512 (113K) [text/plain]\n",
            "Saving to: ‘task2.csv’\n",
            "\n",
            "\rtask2.csv             0%[                    ]       0  --.-KB/s               \rtask2.csv           100%[===================>] 112.80K  --.-KB/s    in 0.008s  \n",
            "\n",
            "2021-05-17 17:52:43 (14.4 MB/s) - ‘task2.csv’ saved [115512/115512]\n",
            "\n",
            "Requirement already satisfied: sklearn in /usr/local/lib/python3.7/dist-packages (0.0)\n",
            "Requirement already satisfied: scikit-learn in /usr/local/lib/python3.7/dist-packages (from sklearn) (0.22.2.post1)\n",
            "Requirement already satisfied: joblib>=0.11 in /usr/local/lib/python3.7/dist-packages (from scikit-learn->sklearn) (1.0.1)\n",
            "Requirement already satisfied: numpy>=1.11.0 in /usr/local/lib/python3.7/dist-packages (from scikit-learn->sklearn) (1.19.5)\n",
            "Requirement already satisfied: scipy>=0.17.0 in /usr/local/lib/python3.7/dist-packages (from scikit-learn->sklearn) (1.4.1)\n"
          ],
          "name": "stdout"
        }
      ]
    },
    {
      "cell_type": "code",
      "metadata": {
        "colab": {
          "base_uri": "https://localhost:8080/",
          "height": 402
        },
        "id": "6SGoeONCxV2p",
        "outputId": "5a76a72b-b7ca-4a47-95e7-81a527b5a559"
      },
      "source": [
        "import pandas as pd\n",
        "import sklearn\n",
        "\n",
        "# Importing Dataset\n",
        "df = pd.read_csv('task2.csv')\n",
        "df"
      ],
      "execution_count": 109,
      "outputs": [
        {
          "output_type": "execute_result",
          "data": {
            "text/html": [
              "<div>\n",
              "<style scoped>\n",
              "    .dataframe tbody tr th:only-of-type {\n",
              "        vertical-align: middle;\n",
              "    }\n",
              "\n",
              "    .dataframe tbody tr th {\n",
              "        vertical-align: top;\n",
              "    }\n",
              "\n",
              "    .dataframe thead th {\n",
              "        text-align: right;\n",
              "    }\n",
              "</style>\n",
              "<table border=\"1\" class=\"dataframe\">\n",
              "  <thead>\n",
              "    <tr style=\"text-align: right;\">\n",
              "      <th></th>\n",
              "      <th>ID</th>\n",
              "      <th>Segment type</th>\n",
              "      <th>Segment Description</th>\n",
              "      <th>Answer</th>\n",
              "      <th>Count</th>\n",
              "      <th>Percentage</th>\n",
              "      <th>It became a relationship</th>\n",
              "    </tr>\n",
              "  </thead>\n",
              "  <tbody>\n",
              "    <tr>\n",
              "      <th>0</th>\n",
              "      <td>292890.8970</td>\n",
              "      <td>web</td>\n",
              "      <td>Meridian, Idaho</td>\n",
              "      <td>No</td>\n",
              "      <td>0.000000</td>\n",
              "      <td>0.000000</td>\n",
              "      <td>0</td>\n",
              "    </tr>\n",
              "    <tr>\n",
              "      <th>1</th>\n",
              "      <td>292887.9870</td>\n",
              "      <td>web</td>\n",
              "      <td>Meridian, Idaho</td>\n",
              "      <td>No</td>\n",
              "      <td>0.000000</td>\n",
              "      <td>0.000000</td>\n",
              "      <td>0</td>\n",
              "    </tr>\n",
              "    <tr>\n",
              "      <th>2</th>\n",
              "      <td>292894.0656</td>\n",
              "      <td>gender</td>\n",
              "      <td>Meridian, Idaho</td>\n",
              "      <td>No</td>\n",
              "      <td>499.173606</td>\n",
              "      <td>0.225255</td>\n",
              "      <td>0</td>\n",
              "    </tr>\n",
              "    <tr>\n",
              "      <th>3</th>\n",
              "      <td>292887.1180</td>\n",
              "      <td>web</td>\n",
              "      <td>Meridian, Idaho</td>\n",
              "      <td>No</td>\n",
              "      <td>0.000000</td>\n",
              "      <td>0.000000</td>\n",
              "      <td>0</td>\n",
              "    </tr>\n",
              "    <tr>\n",
              "      <th>4</th>\n",
              "      <td>292893.6561</td>\n",
              "      <td>gender</td>\n",
              "      <td>Meridian, Idaho</td>\n",
              "      <td>No</td>\n",
              "      <td>455.925963</td>\n",
              "      <td>0.211360</td>\n",
              "      <td>0</td>\n",
              "    </tr>\n",
              "    <tr>\n",
              "      <th>...</th>\n",
              "      <td>...</td>\n",
              "      <td>...</td>\n",
              "      <td>...</td>\n",
              "      <td>...</td>\n",
              "      <td>...</td>\n",
              "      <td>...</td>\n",
              "      <td>...</td>\n",
              "    </tr>\n",
              "    <tr>\n",
              "      <th>1891</th>\n",
              "      <td>292887.5496</td>\n",
              "      <td>web</td>\n",
              "      <td>Meridian, Idaho</td>\n",
              "      <td>No</td>\n",
              "      <td>0.000000</td>\n",
              "      <td>0.000000</td>\n",
              "      <td>0</td>\n",
              "    </tr>\n",
              "    <tr>\n",
              "      <th>1892</th>\n",
              "      <td>292881.6932</td>\n",
              "      <td>mobile</td>\n",
              "      <td>Meridian, Idaho</td>\n",
              "      <td>No</td>\n",
              "      <td>1203.190399</td>\n",
              "      <td>0.312360</td>\n",
              "      <td>0</td>\n",
              "    </tr>\n",
              "    <tr>\n",
              "      <th>1893</th>\n",
              "      <td>292900.8499</td>\n",
              "      <td>gender</td>\n",
              "      <td>Meridian, Idaho</td>\n",
              "      <td>No</td>\n",
              "      <td>806.378820</td>\n",
              "      <td>0.488025</td>\n",
              "      <td>0</td>\n",
              "    </tr>\n",
              "    <tr>\n",
              "      <th>1894</th>\n",
              "      <td>292893.8600</td>\n",
              "      <td>gender</td>\n",
              "      <td>Meridian, Idaho</td>\n",
              "      <td>No</td>\n",
              "      <td>1149.529381</td>\n",
              "      <td>0.488984</td>\n",
              "      <td>0</td>\n",
              "    </tr>\n",
              "    <tr>\n",
              "      <th>1895</th>\n",
              "      <td>292890.2944</td>\n",
              "      <td>web</td>\n",
              "      <td>Meridian, Idaho</td>\n",
              "      <td>No</td>\n",
              "      <td>0.000000</td>\n",
              "      <td>0.000000</td>\n",
              "      <td>0</td>\n",
              "    </tr>\n",
              "  </tbody>\n",
              "</table>\n",
              "<p>1896 rows × 7 columns</p>\n",
              "</div>"
            ],
            "text/plain": [
              "               ID Segment type  ... Percentage It became a relationship\n",
              "0     292890.8970          web  ...   0.000000                        0\n",
              "1     292887.9870          web  ...   0.000000                        0\n",
              "2     292894.0656       gender  ...   0.225255                        0\n",
              "3     292887.1180          web  ...   0.000000                        0\n",
              "4     292893.6561       gender  ...   0.211360                        0\n",
              "...           ...          ...  ...        ...                      ...\n",
              "1891  292887.5496          web  ...   0.000000                        0\n",
              "1892  292881.6932       mobile  ...   0.312360                        0\n",
              "1893  292900.8499       gender  ...   0.488025                        0\n",
              "1894  292893.8600       gender  ...   0.488984                        0\n",
              "1895  292890.2944          web  ...   0.000000                        0\n",
              "\n",
              "[1896 rows x 7 columns]"
            ]
          },
          "metadata": {
            "tags": []
          },
          "execution_count": 109
        }
      ]
    },
    {
      "cell_type": "code",
      "metadata": {
        "colab": {
          "base_uri": "https://localhost:8080/",
          "height": 402
        },
        "id": "pmnig9XaxgOv",
        "outputId": "aab829c2-c6e7-44e2-d8e0-f69e32b6a944"
      },
      "source": [
        "# Replacing Null Values with 0\n",
        "\n",
        "df.fillna(0)\n",
        "df"
      ],
      "execution_count": 110,
      "outputs": [
        {
          "output_type": "execute_result",
          "data": {
            "text/html": [
              "<div>\n",
              "<style scoped>\n",
              "    .dataframe tbody tr th:only-of-type {\n",
              "        vertical-align: middle;\n",
              "    }\n",
              "\n",
              "    .dataframe tbody tr th {\n",
              "        vertical-align: top;\n",
              "    }\n",
              "\n",
              "    .dataframe thead th {\n",
              "        text-align: right;\n",
              "    }\n",
              "</style>\n",
              "<table border=\"1\" class=\"dataframe\">\n",
              "  <thead>\n",
              "    <tr style=\"text-align: right;\">\n",
              "      <th></th>\n",
              "      <th>ID</th>\n",
              "      <th>Segment type</th>\n",
              "      <th>Segment Description</th>\n",
              "      <th>Answer</th>\n",
              "      <th>Count</th>\n",
              "      <th>Percentage</th>\n",
              "      <th>It became a relationship</th>\n",
              "    </tr>\n",
              "  </thead>\n",
              "  <tbody>\n",
              "    <tr>\n",
              "      <th>0</th>\n",
              "      <td>292890.8970</td>\n",
              "      <td>web</td>\n",
              "      <td>Meridian, Idaho</td>\n",
              "      <td>No</td>\n",
              "      <td>0.000000</td>\n",
              "      <td>0.000000</td>\n",
              "      <td>0</td>\n",
              "    </tr>\n",
              "    <tr>\n",
              "      <th>1</th>\n",
              "      <td>292887.9870</td>\n",
              "      <td>web</td>\n",
              "      <td>Meridian, Idaho</td>\n",
              "      <td>No</td>\n",
              "      <td>0.000000</td>\n",
              "      <td>0.000000</td>\n",
              "      <td>0</td>\n",
              "    </tr>\n",
              "    <tr>\n",
              "      <th>2</th>\n",
              "      <td>292894.0656</td>\n",
              "      <td>gender</td>\n",
              "      <td>Meridian, Idaho</td>\n",
              "      <td>No</td>\n",
              "      <td>499.173606</td>\n",
              "      <td>0.225255</td>\n",
              "      <td>0</td>\n",
              "    </tr>\n",
              "    <tr>\n",
              "      <th>3</th>\n",
              "      <td>292887.1180</td>\n",
              "      <td>web</td>\n",
              "      <td>Meridian, Idaho</td>\n",
              "      <td>No</td>\n",
              "      <td>0.000000</td>\n",
              "      <td>0.000000</td>\n",
              "      <td>0</td>\n",
              "    </tr>\n",
              "    <tr>\n",
              "      <th>4</th>\n",
              "      <td>292893.6561</td>\n",
              "      <td>gender</td>\n",
              "      <td>Meridian, Idaho</td>\n",
              "      <td>No</td>\n",
              "      <td>455.925963</td>\n",
              "      <td>0.211360</td>\n",
              "      <td>0</td>\n",
              "    </tr>\n",
              "    <tr>\n",
              "      <th>...</th>\n",
              "      <td>...</td>\n",
              "      <td>...</td>\n",
              "      <td>...</td>\n",
              "      <td>...</td>\n",
              "      <td>...</td>\n",
              "      <td>...</td>\n",
              "      <td>...</td>\n",
              "    </tr>\n",
              "    <tr>\n",
              "      <th>1891</th>\n",
              "      <td>292887.5496</td>\n",
              "      <td>web</td>\n",
              "      <td>Meridian, Idaho</td>\n",
              "      <td>No</td>\n",
              "      <td>0.000000</td>\n",
              "      <td>0.000000</td>\n",
              "      <td>0</td>\n",
              "    </tr>\n",
              "    <tr>\n",
              "      <th>1892</th>\n",
              "      <td>292881.6932</td>\n",
              "      <td>mobile</td>\n",
              "      <td>Meridian, Idaho</td>\n",
              "      <td>No</td>\n",
              "      <td>1203.190399</td>\n",
              "      <td>0.312360</td>\n",
              "      <td>0</td>\n",
              "    </tr>\n",
              "    <tr>\n",
              "      <th>1893</th>\n",
              "      <td>292900.8499</td>\n",
              "      <td>gender</td>\n",
              "      <td>Meridian, Idaho</td>\n",
              "      <td>No</td>\n",
              "      <td>806.378820</td>\n",
              "      <td>0.488025</td>\n",
              "      <td>0</td>\n",
              "    </tr>\n",
              "    <tr>\n",
              "      <th>1894</th>\n",
              "      <td>292893.8600</td>\n",
              "      <td>gender</td>\n",
              "      <td>Meridian, Idaho</td>\n",
              "      <td>No</td>\n",
              "      <td>1149.529381</td>\n",
              "      <td>0.488984</td>\n",
              "      <td>0</td>\n",
              "    </tr>\n",
              "    <tr>\n",
              "      <th>1895</th>\n",
              "      <td>292890.2944</td>\n",
              "      <td>web</td>\n",
              "      <td>Meridian, Idaho</td>\n",
              "      <td>No</td>\n",
              "      <td>0.000000</td>\n",
              "      <td>0.000000</td>\n",
              "      <td>0</td>\n",
              "    </tr>\n",
              "  </tbody>\n",
              "</table>\n",
              "<p>1896 rows × 7 columns</p>\n",
              "</div>"
            ],
            "text/plain": [
              "               ID Segment type  ... Percentage It became a relationship\n",
              "0     292890.8970          web  ...   0.000000                        0\n",
              "1     292887.9870          web  ...   0.000000                        0\n",
              "2     292894.0656       gender  ...   0.225255                        0\n",
              "3     292887.1180          web  ...   0.000000                        0\n",
              "4     292893.6561       gender  ...   0.211360                        0\n",
              "...           ...          ...  ...        ...                      ...\n",
              "1891  292887.5496          web  ...   0.000000                        0\n",
              "1892  292881.6932       mobile  ...   0.312360                        0\n",
              "1893  292900.8499       gender  ...   0.488025                        0\n",
              "1894  292893.8600       gender  ...   0.488984                        0\n",
              "1895  292890.2944          web  ...   0.000000                        0\n",
              "\n",
              "[1896 rows x 7 columns]"
            ]
          },
          "metadata": {
            "tags": []
          },
          "execution_count": 110
        }
      ]
    },
    {
      "cell_type": "code",
      "metadata": {
        "id": "YOku8tsOywYj"
      },
      "source": [
        "# Spliting Data\n",
        "\n",
        "x = df.iloc[:,[3]].values\n",
        "y = df.iloc[:,6].values\n",
        "import numpy as np\n",
        "x = np.where(x=='Yes', 1, x)\n",
        "x = np.where(x=='No', 0, x)\n",
        "x = np.where(x=='I don\\'t use Tinder', 0.2, x)"
      ],
      "execution_count": 111,
      "outputs": []
    },
    {
      "cell_type": "code",
      "metadata": {
        "colab": {
          "base_uri": "https://localhost:8080/"
        },
        "id": "V6rNwiCpHftD",
        "outputId": "fbca63c3-1b32-499b-83e2-c3b66340445e"
      },
      "source": [
        "x"
      ],
      "execution_count": 112,
      "outputs": [
        {
          "output_type": "execute_result",
          "data": {
            "text/plain": [
              "array([[0],\n",
              "       [0],\n",
              "       [0],\n",
              "       ...,\n",
              "       [0],\n",
              "       [0],\n",
              "       [0]], dtype=object)"
            ]
          },
          "metadata": {
            "tags": []
          },
          "execution_count": 112
        }
      ]
    },
    {
      "cell_type": "code",
      "metadata": {
        "id": "flZnXcFNzsA3"
      },
      "source": [
        "from sklearn.model_selection import train_test_split\n",
        "x_train,x_test,y_train,y_test = train_test_split(x,y,random_state=0)"
      ],
      "execution_count": 113,
      "outputs": []
    },
    {
      "cell_type": "code",
      "metadata": {
        "colab": {
          "base_uri": "https://localhost:8080/"
        },
        "id": "JpPCuBjlz1ap",
        "outputId": "fb770908-9b5b-4d42-a166-e742dd266da3"
      },
      "source": [
        "print(x_train.shape)\n",
        "print(x_test.shape)"
      ],
      "execution_count": 114,
      "outputs": [
        {
          "output_type": "stream",
          "text": [
            "(1422, 1)\n",
            "(474, 1)\n"
          ],
          "name": "stdout"
        }
      ]
    },
    {
      "cell_type": "code",
      "metadata": {
        "colab": {
          "base_uri": "https://localhost:8080/"
        },
        "id": "RB0YM1F0Lyhk",
        "outputId": "8680b29d-c91a-48b9-f500-19dd99b554af"
      },
      "source": [
        "# KNN\n",
        "\n",
        "from sklearn.model_selection import GridSearchCV\n",
        "from sklearn.neighbors import KNeighborsClassifier\n",
        "\n",
        "model = KNeighborsClassifier()\n",
        "\n",
        "grid = {'n_neighbors':[1, 3, 5, 7, 9, 11, 13, 15, 17, 19, 21], 'weights':['uniform', 'distance'],'metric':['euclidean', 'manhattan', 'minkowski']}\n",
        "\n",
        "grid1 = GridSearchCV(estimator=model, param_grid=grid, scoring='accuracy',error_score=0)\n",
        "gridsearch_result = grid1.fit(x_train, y_train)\n",
        "\n",
        "print(\"Best: %f using %s\" % (gridsearch_result.best_score_, gridsearch_result.best_params_))"
      ],
      "execution_count": 115,
      "outputs": [
        {
          "output_type": "stream",
          "text": [
            "Best: 0.649785 using {'metric': 'euclidean', 'n_neighbors': 9, 'weights': 'uniform'}\n"
          ],
          "name": "stdout"
        }
      ]
    },
    {
      "cell_type": "code",
      "metadata": {
        "colab": {
          "base_uri": "https://localhost:8080/"
        },
        "id": "39z0FN1kOBSG",
        "outputId": "4d51f1fe-1b92-4ad6-ac9e-a918919dfed5"
      },
      "source": [
        "y_pred = gridsearch_result.predict(x_test)\n",
        "from sklearn.metrics import accuracy_score, confusion_matrix, classification_report\n",
        "accuracy_score(y_pred,y_test)*100"
      ],
      "execution_count": 116,
      "outputs": [
        {
          "output_type": "execute_result",
          "data": {
            "text/plain": [
              "65.18987341772153"
            ]
          },
          "metadata": {
            "tags": []
          },
          "execution_count": 116
        }
      ]
    },
    {
      "cell_type": "code",
      "metadata": {
        "colab": {
          "base_uri": "https://localhost:8080/"
        },
        "id": "iJUTM3k7S6SS",
        "outputId": "54335889-c3cf-4685-e41a-2574d8c82ac1"
      },
      "source": [
        "confusion_matrix(y_test, y_pred)"
      ],
      "execution_count": 117,
      "outputs": [
        {
          "output_type": "execute_result",
          "data": {
            "text/plain": [
              "array([[290,  14],\n",
              "       [151,  19]])"
            ]
          },
          "metadata": {
            "tags": []
          },
          "execution_count": 117
        }
      ]
    },
    {
      "cell_type": "code",
      "metadata": {
        "colab": {
          "base_uri": "https://localhost:8080/"
        },
        "id": "luMkosnsTIa8",
        "outputId": "f593ae57-ddac-4ba7-cd2b-34a1b613e4cc"
      },
      "source": [
        "# Random Forest\n",
        "\n",
        "from sklearn.model_selection import GridSearchCV\n",
        "from sklearn.ensemble import RandomForestClassifier\n",
        "\n",
        "model = RandomForestClassifier()\n",
        "\n",
        "grid = {'n_estimators':[10, 100, 1000], 'max_features':['sqrt', 'log2']}\n",
        "\n",
        "grid2 = GridSearchCV(estimator=model, param_grid=grid, scoring='accuracy',error_score=0)\n",
        "gridsearch_result2 = grid2.fit(x_train, y_train)\n",
        "\n",
        "print(\"Best: %f using %s\" % (gridsearch_result2.best_score_, gridsearch_result2.best_params_))"
      ],
      "execution_count": 118,
      "outputs": [
        {
          "output_type": "stream",
          "text": [
            "Best: 0.645562 using {'max_features': 'sqrt', 'n_estimators': 10}\n"
          ],
          "name": "stdout"
        }
      ]
    },
    {
      "cell_type": "code",
      "metadata": {
        "colab": {
          "base_uri": "https://localhost:8080/"
        },
        "id": "XyLK1V3mZ9R1",
        "outputId": "738029ba-cb56-4919-d460-ab341b5463a5"
      },
      "source": [
        "y_pred = gridsearch_result2.predict(x_test)\n",
        "from sklearn.metrics import accuracy_score, confusion_matrix, classification_report\n",
        "accuracy_score(y_pred,y_test)*100"
      ],
      "execution_count": 119,
      "outputs": [
        {
          "output_type": "execute_result",
          "data": {
            "text/plain": [
              "65.61181434599156"
            ]
          },
          "metadata": {
            "tags": []
          },
          "execution_count": 119
        }
      ]
    },
    {
      "cell_type": "code",
      "metadata": {
        "colab": {
          "base_uri": "https://localhost:8080/"
        },
        "id": "pBwDQ8saapwF",
        "outputId": "044af7db-bb62-4684-f356-758781433c63"
      },
      "source": [
        "confusion_matrix(y_test, y_pred)"
      ],
      "execution_count": 120,
      "outputs": [
        {
          "output_type": "execute_result",
          "data": {
            "text/plain": [
              "array([[271,  33],\n",
              "       [130,  40]])"
            ]
          },
          "metadata": {
            "tags": []
          },
          "execution_count": 120
        }
      ]
    },
    {
      "cell_type": "code",
      "metadata": {
        "id": "qfmC0zCPauuV"
      },
      "source": [
        ""
      ],
      "execution_count": null,
      "outputs": []
    }
  ]
}